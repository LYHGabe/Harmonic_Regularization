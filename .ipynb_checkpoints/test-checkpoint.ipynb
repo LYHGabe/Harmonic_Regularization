{
 "cells": [
  {
   "cell_type": "code",
   "execution_count": 8,
   "metadata": {},
   "outputs": [],
   "source": [
    "import numpy as np\n",
    "from scipy import interpolate\n",
    "import matplotlib.pyplot as plt\n",
    "import torch\n",
    "ctr = np.array([[-1,1],[1,5],[2,-3],[3,0]])\n",
    "T = 5\n",
    "delta = 0.6\n",
    "num_timesteps = 10\n",
    "ctx, T, delta, num_timesteps\n",
    "\n",
    "timesteps = torch.linspace(0,T,num_timesteps+1)\n",
    "x_dot = torch.zeros(2,num_timesteps)\n",
    "xtraj = torch.zeros(2,num_timesteps)\n",
    "deltaT = delta*T\n",
    "#direction = (xfinal-xinit)/torch.norm((xfinal-xinit), 2)\n",
    "#max_speed = (torch.norm((xfinal-xinit), 2)/\n",
    "             #(T + -1/((1-delta)*(1-delta)*T*T*3)*(T-deltaT)*(T-deltaT)*(T-deltaT)))\n",
    "max_speed = 1\n",
    "\n",
    "\n",
    "x=ctr[:,0]\n",
    "y=ctr[:,1]\n",
    "x1_traj = np.array([])\n",
    "\n",
    "h = 0.0001\n",
    "tck,u = interpolate.splprep([x,y],k=2,s=0)\n",
    "xtemp = x[0]\n",
    "\n",
    "#for i in range(10*num_timesteps):\n",
    "    #xtemp = \n",
    "u=np.linspace(-4,1,num=50,endpoint=True)\n",
    "out = interpolate.splev(u,tck)\n",
    "\n",
    "\n",
    "\n",
    "def V(t):\n",
    "    if t<=deltaT:\n",
    "        speed = max_speed\n",
    "    else:\n",
    "        speed = -(max_speed)/((1-delta)*(1-delta)*T*T)*(t-deltaT)*(t-deltaT) + max_speed\n",
    "    return speed\n",
    "\n",
    "def s(t):\n",
    "    if t<=deltaT:\n",
    "        distance = max_speed*t\n",
    "    else:\n",
    "        distance = (max_speed*t + -(max_speed)/((1-delta)*(1-delta)*T*T*3)*\n",
    "                    (t-deltaT)*(t-deltaT)*(t-deltaT))\n",
    "    return distance"
   ]
  },
  {
   "cell_type": "code",
   "execution_count": 10,
   "metadata": {},
   "outputs": [
    {
     "data": {
      "text/plain": [
       "array([0.])"
      ]
     },
     "execution_count": 10,
     "metadata": {},
     "output_type": "execute_result"
    }
   ],
   "source": [
    "np.append(x1_traj,xtemp)"
   ]
  },
  {
   "cell_type": "code",
   "execution_count": null,
   "metadata": {},
   "outputs": [],
   "source": []
  }
 ],
 "metadata": {
  "kernelspec": {
   "display_name": "py3_bhl",
   "language": "python",
   "name": "py3_bhl"
  },
  "language_info": {
   "codemirror_mode": {
    "name": "ipython",
    "version": 3
   },
   "file_extension": ".py",
   "mimetype": "text/x-python",
   "name": "python",
   "nbconvert_exporter": "python",
   "pygments_lexer": "ipython3",
   "version": "3.6.10"
  }
 },
 "nbformat": 4,
 "nbformat_minor": 4
}
