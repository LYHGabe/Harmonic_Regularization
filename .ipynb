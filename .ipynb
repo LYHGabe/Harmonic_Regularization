{
 "cells": [
  {
   "cell_type": "code",
   "execution_count": 72,
   "metadata": {},
   "outputs": [
    {
     "data": {
      "image/png": "[encoded data removed]",
      "text/plain": [
       "<Figure size 432x288 with 1 Axes>"
      ]
     },
     "metadata": {
      "needs_background": "light"
     },
     "output_type": "display_data"
    }
   ],
   "source": [
    "import numpy as np\n",
    "import scipy\n",
    "import matplotlib.pyplot as plt\n",
    "from scipy.interpolate import BSpline\n",
    "import scipy.interpolate as interpolate\n",
    "from scipy import integrate\n",
    "from scipy.misc import derivative\n",
    "from pynverse import inversefunc\n",
    "def B(x, k, i, t):\n",
    "    if k == 0:\n",
    "        return 1.0 if t[i] <= x < t[i+1] else 0.0\n",
    "    if t[i+k] == t[i]:\n",
    "        c1 = 0.0\n",
    "    else:\n",
    "        c1 = (x - t[i])/(t[i+k] - t[i]) * B(x, k-1, i, t)\n",
    "    if t[i+k+1] == t[i+1]:\n",
    "        c2 = 0.0\n",
    "    else:\n",
    "        c2 = (t[i+k+1] - x)/(t[i+k+1] - t[i+1]) * B(x, k-1, i+1, t)\n",
    "    return c1 + c2\n",
    "def bspline(x, t, c, k):\n",
    "    n = len(t) - k - 1\n",
    "    assert (n >= k+1) and (len(c) >= n)\n",
    "    return sum(c[i] * B(x, k, i, t) for i in range(n))\n",
    "\n",
    "k = 3\n",
    "t = [0, 1, 2, 3, 4, 5, 6,7,8]\n",
    "c = [-1, 2, 0, -1,3,4]\n",
    "\n",
    "tt = np.array([ 0. ,  1,  2,  3,  4 , 5, 6])\n",
    "x = np.array([ 0. ,  1,  3,  5,  2 ,2,  10])\n",
    "y = np.array([ 0. ,  6.3,  3. ,  4.3,  9.9 ,11,  3.1])\n",
    "ttt = np.linspace(0,6,100)\n",
    "#x = np.linspace(-2 * np.pi, 2 * np.pi, 25)\n",
    "#def f(x):\n",
    "#    return np.sin(x) + 0.5 * x\n",
    "#y = f(x)\n",
    "tck1 = interpolate.splrep(tt, x, s=0, k=3)\n",
    "tck2 = interpolate.splrep(tt, y, s=0, k=3)\n",
    "t1, c1, k1 = interpolate.splrep(tt, x, s=0, k=3)\n",
    "t2, c2, k2 = interpolate.splrep(tt, y, s=0, k=3)\n",
    "\n",
    "spl1 = BSpline(t1, c1, k1)\n",
    "spl2 = BSpline(t2, c2, k2)\n",
    "#spl(2.5)\n",
    "#bspline(2.5, t, c, k)\n",
    "fig, ax = plt.subplots()\n",
    "xx = np.linspace(-7, 7, 50)\n",
    "#ax.plot(xx, [bspline(x, t, c ,k) for x in xx], 'r-', lw=3, label='naive')\n",
    "#ax.plot(spl1(ttt), spl2(ttt), 'b-', lw=4, alpha=0.7, label='BSpline')\n",
    "ax.plot( interpolate.splev(ttt,tck1),  interpolate.splev(ttt,tck2), 'b-', lw=4, alpha=0.7, label='BSpline')\n",
    "ax.plot(x,y,'.r')\n",
    "ax.grid(True)\n",
    "ax.legend(loc='best')\n",
    "plt.show()"
   ]
  },
  {
   "cell_type": "code",
   "execution_count": 75,
   "metadata": {},
   "outputs": [
    {
     "data": {
      "text/plain": [
       "array(3.)"
      ]
     },
     "execution_count": 75,
     "metadata": {},
     "output_type": "execute_result"
    }
   ],
   "source": [
    "tck\n",
    "splll = interpolate.splev(ttt,tck)\n",
    "#print(splll)\n",
    "#spl1(ttt)\n",
    "inversefunc(spl1, y_values=3)\n",
    "spl1(2)"
   ]
  },
  {
   "cell_type": "code",
   "execution_count": 68,
   "metadata": {},
   "outputs": [
    {
     "name": "stdout",
     "output_type": "stream",
     "text": [
      "5.000000000000002 5.000000000000002\n",
      "-0.7291678372212118 -0.7291666666666663\n"
     ]
    }
   ],
   "source": [
    "a = 3\n",
    "b = interpolate.splev(a,tck)\n",
    "c = spl1(a)\n",
    "d= derivative(spl1,a,dx=1e-10)\n",
    "e = interpolate.splev(a,tck,der=1)\n",
    "print(b,c)\n",
    "print(d,e)"
   ]
  },
  {
   "cell_type": "code",
   "execution_count": null,
   "metadata": {},
   "outputs": [],
   "source": [
    "def dl(tt):\n",
    "    dxdt = \n",
    "    return"
   ]
  },
  {
   "cell_type": "code",
   "execution_count": 43,
   "metadata": {},
   "outputs": [
    {
     "name": "stderr",
     "output_type": "stream",
     "text": [
      "/home/robotics/anaconda3/envs/py3_bhl/lib/python3.6/site-packages/ipykernel_launcher.py:6: IntegrationWarning: The occurrence of roundoff error is detected, which prevents \n",
      "  the requested tolerance from being achieved.  The error may be \n",
      "  underestimated.\n",
      "  \n"
     ]
    },
    {
     "data": {
      "text/plain": [
       "(34.24495111366813, 1.5044599397064384e-05)"
      ]
     },
     "execution_count": 43,
     "metadata": {},
     "output_type": "execute_result"
    }
   ],
   "source": [
    "f = lambda x: spl1(x)\n",
    "derivative(f,3,dx=1e-10)\n",
    "def df(tt):\n",
    "    return np.sqrt(derivative(spl2,tt,dx=1e-10)**2+derivative(spl1,tt,dx=1e-10)**2)\n",
    "df(3)\n",
    "integrate.quad(df,0,6)"
   ]
  },
  {
   "cell_type": "code",
   "execution_count": 30,
   "metadata": {},
   "outputs": [
    {
     "name": "stdout",
     "output_type": "stream",
     "text": [
      "[ 1.03547637e+01  1.00891789e+01  9.82500465e+00  9.56224104e+00\n",
      "  9.30088805e+00  9.04094569e+00  8.78241395e+00  8.52529284e+00\n",
      "  8.26958235e+00  8.01528249e+00  7.76239325e+00  7.51091463e+00\n",
      "  7.26084664e+00  7.01218928e+00  6.76494254e+00  6.51910642e+00\n",
      "  6.27468093e+00  6.03166606e+00  5.79006181e+00  5.54986820e+00\n",
      "  5.31108520e+00  5.07371283e+00  4.83775108e+00  4.60319996e+00\n",
      "  4.37005947e+00  4.13832959e+00  3.90801035e+00  3.67910172e+00\n",
      "  3.45160372e+00  3.22551635e+00  3.00083960e+00  2.77757347e+00\n",
      "  2.55571797e+00  2.33527310e+00  2.11623884e+00  1.89861522e+00\n",
      "  1.68240221e+00  1.46759983e+00  1.25420808e+00  1.04222695e+00\n",
      "  8.31656446e-01  6.22496565e-01  4.14747309e-01  2.08408677e-01\n",
      "  3.48066957e-03 -2.00036713e-01 -4.02143472e-01 -6.02839606e-01\n",
      " -8.02125115e-01 -1.00000000e+00]\n"
     ]
    },
    {
     "data": {
      "image/png": "[encoded data removed]",
      "text/plain": [
       "<Figure size 432x288 with 1 Axes>"
      ]
     },
     "metadata": {
      "needs_background": "light"
     },
     "output_type": "display_data"
    }
   ],
   "source": [
    "import numpy as np\n",
    "from scipy import interpolate\n",
    " \n",
    "\n",
    "#x = np.arange(0, 2*np.pi+np.pi/4, 2*np.pi/8)\n",
    "#y = np.sin(x)\n",
    "\n",
    "ctr =np.array( [(1 , 1),(0,30),  (-1, 0)])\n",
    "\n",
    "x=ctr[:,0]\n",
    "y=ctr[:,1]\n",
    "\n",
    "#x=np.append(x,x[0])\n",
    "#y=np.append(y,y[0])\n",
    "\n",
    "tck,u = interpolate.splprep([x,y],k=2,s=0)\n",
    "u=np.linspace(-4,1,num=50,endpoint=True)\n",
    "out = interpolate.splev(u,tck)\n",
    "print(out[0])\n",
    "plt.figure()\n",
    "plt.plot(x, y, 'ro', out[0], out[1], 'b')\n",
    "plt.legend(['Points', 'Interpolated B-spline', 'True'],loc='best')\n",
    "plt.axis([min(x)-1, max(x)+1, min(y)-1, max(y)+1])\n",
    "plt.title('B-Spline interpolation')\n",
    "plt.show()"
   ]
  },
  {
   "cell_type": "code",
   "execution_count": 35,
   "metadata": {},
   "outputs": [
    {
     "data": {
      "image/png": "[encoded data removed]",
      "text/plain": [
       "<Figure size 432x288 with 1 Axes>"
      ]
     },
     "metadata": {
      "needs_background": "light"
     },
     "output_type": "display_data"
    }
   ],
   "source": [
    "import scipy.interpolate as spi\n",
    "\n",
    "x = np.linspace(-2 * np.pi, 2 * np.pi, 25)\n",
    "def f(x):\n",
    "    return np.sin(x) + 0.5 * x\n",
    "ipo = spi.splrep(x, f(x), k=1)\n",
    "ipo\n",
    "xx = np.linspace(-1,1,25)\n",
    "iy = spi.splev(x, ipo)\n",
    "plt.plot(x, f(x), 'b', label='f(x)')\n",
    "plt.plot(x, iy, 'r.', label='interpolation')\n",
    "plt.legend(loc=0)\n",
    "plt.grid(True)\n",
    "plt.xlabel('x')\n",
    "plt.ylabel('f(x)')\n",
    "plt.show()"
   ]
  },
  {
   "cell_type": "code",
   "execution_count": 36,
   "metadata": {},
   "outputs": [
    {
     "name": "stdout",
     "output_type": "stream",
     "text": [
      "[-3.14159265 -2.37979327 -1.75196847 -1.35619449 -1.2283697  -1.33259571\n",
      " -1.57079633 -1.80899694 -1.91322295 -1.78539816 -1.38962418 -0.76179939\n",
      "  0.          0.76179939  1.38962418  1.78539816  1.91322295  1.80899694\n",
      "  1.57079633  1.33259571  1.2283697   1.35619449  1.75196847  2.37979327\n",
      "  3.14159265]\n"
     ]
    }
   ],
   "source": [
    "print(iy)"
   ]
  },
  {
   "cell_type": "code",
   "execution_count": null,
   "metadata": {},
   "outputs": [],
   "source": []
  }
 ],
 "metadata": {
  "kernelspec": {
   "display_name": "py3_bhl",
   "language": "python",
   "name": "py3_bhl"
  },
  "language_info": {
   "codemirror_mode": {
    "name": "ipython",
    "version": 3
   },
   "file_extension": ".py",
   "mimetype": "text/x-python",
   "name": "python",
   "nbconvert_exporter": "python",
   "pygments_lexer": "ipython3",
   "version": "3.6.10"
  }
 },
 "nbformat": 4,
 "nbformat_minor": 4
}
