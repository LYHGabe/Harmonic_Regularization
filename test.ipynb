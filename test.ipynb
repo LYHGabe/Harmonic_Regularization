{
 "cells": [
  {
   "cell_type": "code",
   "execution_count": 138,
   "metadata": {},
   "outputs": [
    {
     "name": "stdout",
     "output_type": "stream",
     "text": [
      "[[-1.82131160e+02 -1.02377993e+03]\n",
      " [-1.73958664e+02 -9.75159272e+02]\n",
      " [-1.65972127e+02 -9.27715485e+02]\n",
      " [-1.58171548e+02 -8.81448574e+02]\n",
      " [-1.50556927e+02 -8.36358538e+02]\n",
      " [-1.43128265e+02 -7.92445377e+02]\n",
      " [-1.35885561e+02 -7.49709092e+02]\n",
      " [-1.28828815e+02 -7.08149681e+02]\n",
      " [-1.21958027e+02 -6.67767146e+02]\n",
      " [-1.15273198e+02 -6.28561486e+02]\n",
      " [-1.08774326e+02 -5.90532702e+02]\n",
      " [-1.02461413e+02 -5.53680792e+02]\n",
      " [-9.63344586e+01 -5.18005758e+02]\n",
      " [-9.03934622e+01 -4.83507598e+02]\n",
      " [-8.46384239e+01 -4.50186314e+02]\n",
      " [-7.90693440e+01 -4.18041906e+02]\n",
      " [-7.36862223e+01 -3.87074372e+02]\n",
      " [-6.84890588e+01 -3.57283714e+02]\n",
      " [-6.34778537e+01 -3.28669931e+02]\n",
      " [-5.86526067e+01 -3.01233023e+02]\n",
      " [-5.40133180e+01 -2.74972990e+02]\n",
      " [-4.95599876e+01 -2.49889832e+02]\n",
      " [-4.52926154e+01 -2.25983550e+02]\n",
      " [-4.12112015e+01 -2.03254143e+02]\n",
      " [-3.73157458e+01 -1.81701611e+02]\n",
      " [-3.36062484e+01 -1.61325954e+02]\n",
      " [-3.00827093e+01 -1.42127173e+02]\n",
      " [-2.67451284e+01 -1.24105266e+02]\n",
      " [-2.35935057e+01 -1.07260235e+02]\n",
      " [-2.06278413e+01 -9.15920792e+01]\n",
      " [-1.78481352e+01 -7.71007984e+01]\n",
      " [-1.52543873e+01 -6.37863929e+01]\n",
      " [-1.28465977e+01 -5.16488626e+01]\n",
      " [-1.06247663e+01 -4.06882074e+01]\n",
      " [-8.58889318e+00 -3.09044275e+01]\n",
      " [-6.73897831e+00 -2.22975227e+01]\n",
      " [-5.07502170e+00 -1.48674932e+01]\n",
      " [-3.59702334e+00 -8.61433884e+00]\n",
      " [-2.30498323e+00 -3.53805970e+00]\n",
      " [-1.19890138e+00  3.61344236e-01]\n",
      " [-2.78777783e-01  3.08387298e+00]\n",
      " [ 4.55387560e-01  4.62952651e+00]\n",
      " [ 1.00359465e+00  4.99830485e+00]\n",
      " [ 1.36584348e+00  4.19020799e+00]\n",
      " [ 1.54213406e+00  2.20523592e+00]\n",
      " [ 1.57271282e+00 -6.53216391e-01]\n",
      " [ 1.70785956e+00 -2.49843187e+00]\n",
      " [ 1.99078967e+00 -3.00463430e+00]\n",
      " [ 2.42150315e+00 -2.17182367e+00]\n",
      " [ 3.00000000e+00  0.00000000e+00]]\n"
     ]
    },
    {
     "data": {
      "image/png": "[encoded data removed]",
      "text/plain": [
       "<Figure size 432x288 with 1 Axes>"
      ]
     },
     "metadata": {
      "needs_background": "light"
     },
     "output_type": "display_data"
    }
   ],
   "source": [
    "import numpy as np\n",
    "from scipy import interpolate\n",
    "import matplotlib.pyplot as plt\n",
    "import torch\n",
    "ctr = np.array([[-1,1],[1,5],[2,-3],[3,0]])\n",
    "T = 5\n",
    "delta = 0.6\n",
    "num_timesteps = 10\n",
    "ctx, T, delta, num_timesteps\n",
    "\n",
    "timesteps = torch.linspace(0,T,num_timesteps+1)\n",
    "x_dot = torch.zeros(2,num_timesteps)\n",
    "xtraj = torch.zeros(2,num_timesteps)\n",
    "deltaT = delta*T\n",
    "#direction = (xfinal-xinit)/torch.norm((xfinal-xinit), 2)\n",
    "#max_speed = (torch.norm((xfinal-xinit), 2)/\n",
    "             #(T + -1/((1-delta)*(1-delta)*T*T*3)*(T-deltaT)*(T-deltaT)*(T-deltaT)))\n",
    "max_speed = 1\n",
    "\n",
    "\n",
    "x=ctr[:,0]\n",
    "y=ctr[:,1]\n",
    "x1_traj = np.array([])\n",
    "\n",
    "h = 0.0001\n",
    "tck,u = interpolate.splprep([x,y],k=2,s=0)\n",
    "#print(tck,u)\n",
    "#print(u)\n",
    "xtemp = x[0]\n",
    "#print(xtemp)\n",
    "#print(interpolate.splev(u,tck))\n",
    "#ytemp = \n",
    "#dydxtemp = \n",
    "#for i in range(10*num_timesteps):\n",
    "    #xtemp = \n",
    "u=np.linspace(-4,1,num=50,endpoint=True)\n",
    "out = interpolate.splev(u,tck)\n",
    "out_scaled = np.array(interpolate.splev(u,tck)).T\n",
    "print(out_scaled)\n",
    "plt.figure()\n",
    "plt.plot(x, y, 'ro', out[0], out[1], 'b')\n",
    "plt.legend(['Points', 'Interpolated B-spline', 'True'],loc='best')\n",
    "plt.axis([min(x)-1, max(x)+1, min(y)-1, max(y)+1])\n",
    "plt.title('B-Spline interpolation')\n",
    "plt.show()\n",
    "\n",
    "\n",
    "def V(t):\n",
    "    if t<=deltaT:\n",
    "        speed = max_speed\n",
    "    else:\n",
    "        speed = -(max_speed)/((1-delta)*(1-delta)*T*T)*(t-deltaT)*(t-deltaT) + max_speed\n",
    "    return speed\n",
    "\n",
    "def s(t):\n",
    "    if t<=deltaT:\n",
    "        distance = max_speed*t\n",
    "    else:\n",
    "        distance = (max_speed*t + -(max_speed)/((1-delta)*(1-delta)*T*T*3)*\n",
    "                    (t-deltaT)*(t-deltaT)*(t-deltaT))\n",
    "    return distance"
   ]
  },
  {
   "cell_type": "code",
   "execution_count": 113,
   "metadata": {},
   "outputs": [
    {
     "data": {
      "text/plain": [
       "array([-1., -1., -1., -1., -1., -1., -1., -1., -1., -1., -1., -1., -1.,\n",
       "       -1., -1., -1., -1., -1., -1., -1., -1., -1., -1., -1., -1., -1.,\n",
       "       -1., -1., -1., -1., -1., -1., -1., -1., -1., -1., -1., -1., -1.,\n",
       "       -1., -1., -1., -1., -1., -1., -1., -1., -1., -1., -1., -1., -1.,\n",
       "       -1., -1., -1., -1., -1., -1., -1., -1., -1., -1., -1., -1., -1.,\n",
       "       -1., -1., -1., -1., -1., -1., -1., -1., -1., -1., -1., -1., -1.,\n",
       "       -1., -1., -1., -1., -1., -1., -1., -1., -1., -1., -1., -1., -1.,\n",
       "       -1., -1., -1., -1., -1., -1., -1., -1., -1., -1.])"
      ]
     },
     "execution_count": 113,
     "metadata": {},
     "output_type": "execute_result"
    }
   ],
   "source": [
    "x1_traj = np.append(x1_traj,xtemp)\n"
   ]
  },
  {
   "cell_type": "code",
   "execution_count": null,
   "metadata": {},
   "outputs": [],
   "source": []
  }
 ],
 "metadata": {
  "kernelspec": {
   "display_name": "py3_bhl",
   "language": "python",
   "name": "py3_bhl"
  },
  "language_info": {
   "codemirror_mode": {
    "name": "ipython",
    "version": 3
   },
   "file_extension": ".py",
   "mimetype": "text/x-python",
   "name": "python",
   "nbconvert_exporter": "python",
   "pygments_lexer": "ipython3",
   "version": "3.6.10"
  }
 },
 "nbformat": 4,
 "nbformat_minor": 4
}
